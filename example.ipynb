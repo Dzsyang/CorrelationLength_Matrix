{
 "cells": [
  {
   "cell_type": "code",
   "id": "initial_id",
   "metadata": {
    "collapsed": true
   },
   "source": [
    "import matplotlib.pyplot as plt\n",
    "from spatial_correlation_single_mps import *\n",
    "from spatial_correlation_single_cuda import *"
   ],
   "outputs": [],
   "execution_count": null
  },
  {
   "metadata": {},
   "cell_type": "code",
   "source": [
    "# Example Usage\n",
    "mat = np.random.randn(300, 300)  # Replace with your actual data"
   ],
   "id": "a90e41051149e27f",
   "outputs": [],
   "execution_count": null
  },
  {
   "metadata": {},
   "cell_type": "code",
   "source": [
    "# Compute spatial correlation with mps or cuda\n",
    "distances, C_s = compute_spatial_correlation_mps(mat, scale=2, distance_bins=50)\n",
    "# distances, C_s = compute_spatial_correlation_cuda(mat, scale=2, distance_bins=50)"
   ],
   "id": "f1b9e37c99a554b8",
   "outputs": [],
   "execution_count": null
  },
  {
   "metadata": {},
   "cell_type": "code",
   "source": [
    "# Plot\n",
    "plt.figure(figsize=(6, 4))\n",
    "plt.plot(distances, C_s, linewidth=2, linestyle='-', color='blue')\n",
    "plt.scatter(distances, C_s, s=10, color='red', alpha=0.8, edgecolor='black')\n",
    "plt.xlabel('Distance R')\n",
    "plt.ylabel('Spatial Correlation $C_s(R)$')\n",
    "plt.show()"
   ],
   "id": "dee4d8dc100156dd",
   "outputs": [],
   "execution_count": null
  }
 ],
 "metadata": {
  "kernelspec": {
   "display_name": "Python 3",
   "language": "python",
   "name": "python3"
  },
  "language_info": {
   "codemirror_mode": {
    "name": "ipython",
    "version": 2
   },
   "file_extension": ".py",
   "mimetype": "text/x-python",
   "name": "python",
   "nbconvert_exporter": "python",
   "pygments_lexer": "ipython2",
   "version": "2.7.6"
  }
 },
 "nbformat": 4,
 "nbformat_minor": 5
}
